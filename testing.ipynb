{
 "cells": [
  {
   "cell_type": "code",
   "execution_count": 1,
   "metadata": {},
   "outputs": [],
   "source": [
    "from pairs_helper_functions import *\n"
   ]
  },
  {
   "cell_type": "code",
   "execution_count": 70,
   "metadata": {},
   "outputs": [
    {
     "name": "stdout",
     "output_type": "stream",
     "text": [
      "[0.8625, 1.6387500000000002, 2.33521875, 2.95794375, 3.5125582031250002, 4.0043163515625, 4.438117289648438, 4.818527343046875, 5.1498010978813475, 5.4359011588747554, 5.6805167110241195, 5.88708095506136, 6.058787482917316, 6.198605655600023, 6.309295042307167, 6.393418976204596, 6.453357279106514, 6.491318204277729, 6.509349643734056, 6.509349643734056]\n",
      "97.64471353810586\n"
     ]
    }
   ],
   "source": [
    "def scale_size(total_size:float, num_orders:int):\n",
    "    step = total_size / num_orders * 1.725\n",
    "    prices = list()\n",
    "    for i in range(num_orders):\n",
    "        value = step + i*step\n",
    "        prices.append(value)\n",
    "        step -= step/num_orders\n",
    "    return prices\n",
    "a = scale_size(10,20)\n",
    "print(a)\n",
    "print(sum(a))"
   ]
  },
  {
   "cell_type": "code",
   "execution_count": 4,
   "metadata": {},
   "outputs": [],
   "source": [
    "import ccxt\n",
    "ftx =  ccxt.ftx({\n",
    "                            'apiKey': \"b2aqGzkAAbBrs8qxEVswYZNbMCLmCeV_MeJhT8-e\",\n",
    "                            'secret': \"FTgEkFA3MHIANWYZ_qMinrkzN-wmEQ4xg4jlcXFN\",\n",
    "                            'hostname': 'ftx.us',\n",
    "                            'name': 'FTXUS',\n",
    "                            'enableRateLimit': True,\n",
    "                        })"
   ]
  },
  {
   "cell_type": "code",
   "execution_count": 155,
   "metadata": {},
   "outputs": [],
   "source": [
    "markets = {\"SOL\": -.3, \"ETH\":.5, \"BTC\":.5, \"AVAX\":-.7}"
   ]
  },
  {
   "cell_type": "code",
   "execution_count": 156,
   "metadata": {},
   "outputs": [
    {
     "ename": "AttributeError",
     "evalue": "'dict' object has no attribute 'query'",
     "output_type": "error",
     "traceback": [
      "\u001b[0;31m---------------------------------------------------------------------------\u001b[0m",
      "\u001b[0;31mAttributeError\u001b[0m                            Traceback (most recent call last)",
      "\u001b[1;32m/Users/kevingeorge/Documents/projects/oms/testing.ipynb Cell 5'\u001b[0m in \u001b[0;36m<cell line: 2>\u001b[0;34m()\u001b[0m\n\u001b[1;32m      <a href='vscode-notebook-cell:/Users/kevingeorge/Documents/projects/oms/testing.ipynb#ch0000021?line=1'>2</a>\u001b[0m \u001b[39mfor\u001b[39;00m i \u001b[39min\u001b[39;00m markets\u001b[39m.\u001b[39mkeys():\n\u001b[1;32m      <a href='vscode-notebook-cell:/Users/kevingeorge/Documents/projects/oms/testing.ipynb#ch0000021?line=2'>3</a>\u001b[0m     s \u001b[39m=\u001b[39m i \u001b[39m+\u001b[39m \u001b[39m\"\u001b[39m\u001b[39m/USD:USD\u001b[39m\u001b[39m\"\u001b[39m\n\u001b[0;32m----> <a href='vscode-notebook-cell:/Users/kevingeorge/Documents/projects/oms/testing.ipynb#ch0000021?line=3'>4</a>\u001b[0m     last \u001b[39m=\u001b[39m markets\u001b[39m.\u001b[39;49mquery(\u001b[39m\"\u001b[39m\u001b[39msymbol == @s\u001b[39m\u001b[39m\"\u001b[39m)\n\u001b[1;32m      <a href='vscode-notebook-cell:/Users/kevingeorge/Documents/projects/oms/testing.ipynb#ch0000021?line=4'>5</a>\u001b[0m     \u001b[39mprint\u001b[39m(last[\u001b[39m'\u001b[39m\u001b[39minfo\u001b[39m\u001b[39m'\u001b[39m])\n",
      "\u001b[0;31mAttributeError\u001b[0m: 'dict' object has no attribute 'query'"
     ]
    }
   ],
   "source": [
    "last_prices = dict()\n",
    "for i in markets.keys():\n",
    "    s = i + \"/USD:USD\"\n",
    "    last = markets.query(\"symbol == @s\")\n",
    "    print(last['info'])\n",
    "    # last_prices[last['name']] = (last['last'], last['minProvideSize'])"
   ]
  },
  {
   "cell_type": "code",
   "execution_count": 149,
   "metadata": {},
   "outputs": [],
   "source": [
    "a = pd.DataFrame(o.ftx.fetch_balance()['info']['result'])\n"
   ]
  },
  {
   "cell_type": "code",
   "execution_count": null,
   "metadata": {},
   "outputs": [],
   "source": [
    "import pandas as pd\n",
    "from oms import OMS\n",
    "import time\n",
    "\n",
    "\n",
    "o = OMS()\n",
    "def balance():\n",
    "    df = pd.DataFrame(o.ftx.fetch_balance()['info']['result'])\n",
    "    sum = 0\n",
    "    for i in df['usdValue']:\n",
    "        sum += float(i)\n",
    "    return sum\n",
    "\n",
    "def last_prices():\n",
    "    mkts = pd.DataFrame(o.ftx.fetch_markets())\n",
    "    last_prices = dict()\n",
    "    for i in markets.keys():\n",
    "        s = i + \"/USD:USD\"\n",
    "        last = mkts.query(\"symbol == @s\")['info'].iloc[0]\n",
    "        last_prices[i] = (last['last'], last['minProvideSize'])\n",
    "    return last_prices\n",
    "\n",
    "# get balance * lev -> multiply by weights to get dollar value/token\n",
    "# calc amount to purchase\n",
    "pos = o.positions()\n",
    "print(pos)\n",
    "markets = {\"GAL\": -.5, \"UST\":-.5}\n",
    "# pos = o.positions()\n",
    "lev = 2\n",
    "lp = last_prices()\n",
    "value = balance()\n",
    "size = dict()\n",
    "acc_val = balance()\n",
    "\n",
    "curr_lev = pos['notional'].sum() / acc_val\n",
    "\n",
    "net_lev = 0.0\n",
    "for i in pos.iterrows():\n",
    "    if i[1]['side'] == \"short\":\n",
    "        net_lev -= i[1]['notional'] / value\n",
    "    else:\n",
    "        net_lev += i[1]['notional'] / value\n",
    "\n",
    "    \n",
    "\n",
    "print(net_lev)\n",
    "\n",
    "# calculate desired size\n",
    "for k,v in markets.items():\n",
    "    notional = v*value*lev\n",
    "    amt = notional / float(lp[k][0])\n",
    "    sz = int(amt / float(lp[k][1])) * float(lp[k][1])\n",
    "    size[k] = sz\n",
    "\n",
    "sz_pd = pd.DataFrame([[k,v] for k,v in size.items()], columns=[\"ticker\",\"size\"])\n",
    "print(curr_lev)\n",
    "\n",
    "def size(row):\n",
    "    if row['side'] == \"short\":\n",
    "        return -row['contracts']\n",
    "    else:\n",
    "        return row['contracts']\n",
    "\n",
    "def rm_suffix(row):\n",
    "    return row['symbol'].removesuffix(\"/USD:USD\")\n",
    "    \n",
    "\n",
    "pos['current_size'] = pos.apply (lambda row: size(row), axis=1)\n",
    "\n",
    "pos['ticker'] = pos.apply (lambda row: rm_suffix(row), axis=1)\n",
    "\n",
    "# sz_pd['current_size'] = pos['contracts'] if pos['side'] == \"long\" else -pos['contracts']\n",
    "curr = pd.DataFrame()\n",
    "curr['curr_size'] = pos.apply (lambda row: size(row), axis=1)\n",
    "curr['ticker'] = pos.apply (lambda row: rm_suffix(row), axis=1)\n",
    "\n",
    "\n",
    "\n",
    "# sz_pd['order_size'] = sz_pd['size'] - sz_pd['current_size']\n",
    "\n",
    "final = pd.merge(sz_pd, curr, on=\"ticker\", how=\"left\").fillna(0)\n",
    "final['diff'] = final['size'] - final['curr_size']\n",
    "print(final)\n",
    "# o.twap_df(final)\n",
    "# print(pos.apply (lambda row: size(row), axis=1))\n",
    "    \n",
    "\n",
    "\n",
    "\n",
    "\n"
   ]
  },
  {
   "cell_type": "code",
   "execution_count": 1,
   "metadata": {},
   "outputs": [
    {
     "data": {
      "text/plain": [
       "{'SOL': ('44.77', '0.01'),\n",
       " 'ETH': ('1927.6', '0.001'),\n",
       " 'BTC': ('31616.0', '0.001')}"
      ]
     },
     "execution_count": 1,
     "metadata": {},
     "output_type": "execute_result"
    }
   ],
   "source": [
    "import pandas as pd\n",
    "from oms import OMS\n",
    "import time\n",
    "o = OMS()\n",
    "def last_prices(markets):\n",
    "    mkts = pd.DataFrame(o.ftx.fetch_markets())\n",
    "    last_prices = dict()\n",
    "    for i in markets:\n",
    "        s = i + \"/USD:USD\"\n",
    "        last = mkts.query(\"symbol == @s\")['info'].iloc[0]\n",
    "        last_prices[i] = (last['last'], last['minProvideSize'])\n",
    "    return last_prices\n",
    "    \n",
    "last_prices([\"SOL\",\"ETH\",\"BTC\"])"
   ]
  },
  {
   "cell_type": "code",
   "execution_count": null,
   "metadata": {},
   "outputs": [],
   "source": [
    "market_returns,pct = multi_weighted_index({\"SOL\":1, \"ETH\":-1}, 1, resolution=\"5m\")\n",
    "# b,mrk, pct_s = multi_weighted_index({\"NEAR\":-.25,\"SOL\":-.2, \"AVAX\":-.25,\"ATOM\":-.25}, 30, resolution=\"1h\")"
   ]
  },
  {
   "cell_type": "code",
   "execution_count": 5,
   "metadata": {},
   "outputs": [],
   "source": [
    "t = get_historical_data(\"2022-03-21\", \"SOL-PERP\", \"1h\")\n"
   ]
  },
  {
   "cell_type": "code",
   "execution_count": 7,
   "metadata": {},
   "outputs": [
    {
     "data": {
      "text/plain": [
       "(1467, 1467)"
      ]
     },
     "execution_count": 7,
     "metadata": {},
     "output_type": "execute_result"
    }
   ],
   "source": [
    "len(pct), len(t[:1467])"
   ]
  },
  {
   "cell_type": "code",
   "execution_count": null,
   "metadata": {},
   "outputs": [],
   "source": [
    "t_df = pd.DataFrame(t[:1467], columns=[\"time\", \"open\" ,\"high\", \"low\", \"close\",\"volume\"])\n",
    "t_df['returns'] = (t_df['close'] - t_df['close'][0]) / t_df['close'][0]\n",
    "\n",
    "bdf = pd.DataFrame(columns=[\"market\",\"ticker\"])\n",
    "bdf[\"ticker\"] = t_df['returns']\n",
    "bdf[\"market\"] = pct\n",
    "\n",
    "def calc_beta(df):\n",
    "    np_array = df.values\n",
    "    s = np_array[:,0] \n",
    "    m = np_array[:,1]\n",
    "\n",
    "    covariance = np.cov(s,m) \n",
    "    beta = covariance[0,1]/covariance[1,1]\n",
    "    return beta\n",
    "\n",
    "def rolling(df, period, function , min_periods=None):\n",
    "    if min_periods is None:\n",
    "        min_periods = period\n",
    "    result = pd.Series(np.nan, index=df.index)\n",
    "\n",
    "    for i in range(1, len(df)+1):\n",
    "        df2 = df.iloc[max(i-period, 0):i,:] #I edited here\n",
    "        if len(df2) >= min_periods:\n",
    "            idx = df2.index[-1]\n",
    "            result[idx] = function(df2)\n",
    "    return result\n",
    "\n",
    "bdf['beta'] = rolling(bdf, 4, calc_beta, min_periods=None)\n",
    "bdf['market'].plot()\n"
   ]
  },
  {
   "cell_type": "code",
   "execution_count": null,
   "metadata": {},
   "outputs": [],
   "source": [
    "bdf['index'] = bdf[\"market\"] - bdf[\"ticker\"]\n",
    "bdf['ticker'].plot()"
   ]
  },
  {
   "cell_type": "code",
   "execution_count": null,
   "metadata": {},
   "outputs": [],
   "source": [
    "a= compare(\"2022-06-01\", \"NEAR-PERP\" , long=False)"
   ]
  },
  {
   "cell_type": "code",
   "execution_count": null,
   "metadata": {},
   "outputs": [
    {
     "ename": "",
     "evalue": "",
     "output_type": "error",
     "traceback": [
      "\u001b[1;31mRunning cells with 'Python 3.8.9 64-bit' requires ipykernel package.\n",
      "Run the following command to install 'ipykernel' into the Python environment. \n",
      "Command: '/usr/bin/python3 -m pip install ipykernel -U --user --force-reinstall'"
     ]
    }
   ],
   "source": [
    "import ccxt\n",
    "import numpy as np\n",
    "import pandas as pd\n",
    "import os\n",
    "from dotenv import load_dotenv\n",
    "load_dotenv()\n",
    "pd.options.plotting.backend = \"plotly\"\n",
    "ftx =  ccxt.ftx({\n",
    "                            'apiKey': os.getenv('API_KEY'),\n",
    "                            'secret': os.getenv('API_SECRET'),\n",
    "                        })\n",
    "\n",
    "positions = pd.DataFrame(ftx.fetch_positions())\n",
    "# positions[['symbol','notional',\n",
    "#            'unrealizedPnl','contracts',\n",
    "#            'markPrice', 'percentage', 'liquidationPrice',\n",
    "#            'side',\n",
    "#           ]]\n"
   ]
  },
  {
   "cell_type": "code",
   "execution_count": 2,
   "metadata": {},
   "outputs": [
    {
     "ename": "NameError",
     "evalue": "name 'positions' is not defined",
     "output_type": "error",
     "traceback": [
      "\u001b[0;31m---------------------------------------------------------------------------\u001b[0m",
      "\u001b[0;31mNameError\u001b[0m                                 Traceback (most recent call last)",
      "\u001b[1;32m/Users/kevingeorge/Documents/projects/oms/testing.ipynb Cell 6'\u001b[0m in \u001b[0;36m<cell line: 2>\u001b[0;34m()\u001b[0m\n\u001b[1;32m      <a href='vscode-notebook-cell:/Users/kevingeorge/Documents/projects/oms/testing.ipynb#ch0000016?line=0'>1</a>\u001b[0m \u001b[39mfrom\u001b[39;00m \u001b[39mtermcolor\u001b[39;00m \u001b[39mimport\u001b[39;00m colored\n\u001b[0;32m----> <a href='vscode-notebook-cell:/Users/kevingeorge/Documents/projects/oms/testing.ipynb#ch0000016?line=1'>2</a>\u001b[0m p \u001b[39m=\u001b[39m positions[positions[\u001b[39m'\u001b[39m\u001b[39mnotional\u001b[39m\u001b[39m'\u001b[39m] \u001b[39m>\u001b[39m \u001b[39m0\u001b[39m][[\u001b[39m'\u001b[39m\u001b[39msymbol\u001b[39m\u001b[39m'\u001b[39m,\u001b[39m'\u001b[39m\u001b[39mnotional\u001b[39m\u001b[39m'\u001b[39m,\u001b[39m'\u001b[39m\u001b[39mside\u001b[39m\u001b[39m'\u001b[39m,\u001b[39m'\u001b[39m\u001b[39mcontracts\u001b[39m\u001b[39m'\u001b[39m]]\n\u001b[1;32m      <a href='vscode-notebook-cell:/Users/kevingeorge/Documents/projects/oms/testing.ipynb#ch0000016?line=2'>3</a>\u001b[0m total \u001b[39m=\u001b[39m p[\u001b[39m'\u001b[39m\u001b[39mnotional\u001b[39m\u001b[39m'\u001b[39m]\u001b[39m.\u001b[39msum()\n\u001b[1;32m      <a href='vscode-notebook-cell:/Users/kevingeorge/Documents/projects/oms/testing.ipynb#ch0000016?line=3'>4</a>\u001b[0m p[\u001b[39m'\u001b[39m\u001b[39mweight\u001b[39m\u001b[39m'\u001b[39m] \u001b[39m=\u001b[39m \u001b[39mround\u001b[39m(p[\u001b[39m'\u001b[39m\u001b[39mnotional\u001b[39m\u001b[39m'\u001b[39m] \u001b[39m/\u001b[39m total \u001b[39m*\u001b[39m \u001b[39m100\u001b[39m,\u001b[39m2\u001b[39m)\n",
      "\u001b[0;31mNameError\u001b[0m: name 'positions' is not defined"
     ]
    }
   ],
   "source": [
    "from termcolor import colored\n",
    "p = positions[positions['notional'] > 0][['symbol','notional','side','contracts']]\n",
    "total = p['notional'].sum()\n",
    "p['weight'] = round(p['notional'] / total * 100,2)\n",
    "print(colored(\"hi\"), \"cyan\")\n",
    "for i in p.sort_values(by=[\"weight\"]).iterrows():\n",
    "    print(f\"{i[1]['symbol'].removesuffix('/USD:USD')} {i[1]['side']} {i[1]['contracts']} contracts ({i[1]['notional']}$) weight: {i[1]['weight']}\")"
   ]
  },
  {
   "cell_type": "code",
   "execution_count": 36,
   "metadata": {},
   "outputs": [],
   "source": [
    "import pandas as pd\n",
    "df = pd.read_csv(\"../data/Binance_ETHUSDT_1h.csv\")"
   ]
  },
  {
   "cell_type": "code",
   "execution_count": 68,
   "metadata": {},
   "outputs": [],
   "source": [
    "import pandas_ta as ta\n",
    "import plotly.express as px\n"
   ]
  },
  {
   "cell_type": "code",
   "execution_count": 49,
   "metadata": {},
   "outputs": [
    {
     "name": "stderr",
     "output_type": "stream",
     "text": [
      "/var/folders/x4/v6qr377j3bbc576wq6903mvm0000gn/T/ipykernel_7073/2608586351.py:2: SettingWithCopyWarning: \n",
      "A value is trying to be set on a copy of a slice from a DataFrame.\n",
      "Try using .loc[row_indexer,col_indexer] = value instead\n",
      "\n",
      "See the caveats in the documentation: https://pandas.pydata.org/pandas-docs/stable/user_guide/indexing.html#returning-a-view-versus-a-copy\n",
      "  df['hma_200'] = df.ta.hma(length=200)\n"
     ]
    }
   ],
   "source": [
    "df = df[df['date'] > \"2020-01-01\"]\n",
    "df['hma_200'] = df.ta.hma(length=200)"
   ]
  },
  {
   "cell_type": "code",
   "execution_count": 82,
   "metadata": {},
   "outputs": [
    {
     "name": "stderr",
     "output_type": "stream",
     "text": [
      "/var/folders/x4/v6qr377j3bbc576wq6903mvm0000gn/T/ipykernel_7073/57468003.py:2: SettingWithCopyWarning:\n",
      "\n",
      "\n",
      "A value is trying to be set on a copy of a slice from a DataFrame.\n",
      "Try using .loc[row_indexer,col_indexer] = value instead\n",
      "\n",
      "See the caveats in the documentation: https://pandas.pydata.org/pandas-docs/stable/user_guide/indexing.html#returning-a-view-versus-a-copy\n",
      "\n"
     ]
    },
    {
     "data": {
      "text/html": [
       "<div>\n",
       "<style scoped>\n",
       "    .dataframe tbody tr th:only-of-type {\n",
       "        vertical-align: middle;\n",
       "    }\n",
       "\n",
       "    .dataframe tbody tr th {\n",
       "        vertical-align: top;\n",
       "    }\n",
       "\n",
       "    .dataframe thead th {\n",
       "        text-align: right;\n",
       "    }\n",
       "</style>\n",
       "<table border=\"1\" class=\"dataframe\">\n",
       "  <thead>\n",
       "    <tr style=\"text-align: right;\">\n",
       "      <th></th>\n",
       "      <th>unix</th>\n",
       "      <th>date</th>\n",
       "      <th>symbol</th>\n",
       "      <th>open</th>\n",
       "      <th>high</th>\n",
       "      <th>low</th>\n",
       "      <th>close</th>\n",
       "      <th>Volume ETH</th>\n",
       "      <th>Volume USDT</th>\n",
       "      <th>tradecount</th>\n",
       "      <th>hma_200</th>\n",
       "      <th>pct_dev</th>\n",
       "    </tr>\n",
       "  </thead>\n",
       "  <tbody>\n",
       "    <tr>\n",
       "      <th>212</th>\n",
       "      <td>1.650773e+12</td>\n",
       "      <td>2022-04-24 04:00:00</td>\n",
       "      <td>ETH/USDT</td>\n",
       "      <td>2955.93</td>\n",
       "      <td>2958.85</td>\n",
       "      <td>2948.62</td>\n",
       "      <td>2951.22</td>\n",
       "      <td>5937.2522</td>\n",
       "      <td>1.754233e+07</td>\n",
       "      <td>10974.0</td>\n",
       "      <td>2932.351310</td>\n",
       "      <td>-0.6394</td>\n",
       "    </tr>\n",
       "    <tr>\n",
       "      <th>213</th>\n",
       "      <td>1.650769e+12</td>\n",
       "      <td>2022-04-24 03:00:00</td>\n",
       "      <td>ETH/USDT</td>\n",
       "      <td>2932.34</td>\n",
       "      <td>2960.00</td>\n",
       "      <td>2930.01</td>\n",
       "      <td>2955.92</td>\n",
       "      <td>10693.1294</td>\n",
       "      <td>3.153426e+07</td>\n",
       "      <td>17028.0</td>\n",
       "      <td>2933.264941</td>\n",
       "      <td>-0.7664</td>\n",
       "    </tr>\n",
       "    <tr>\n",
       "      <th>214</th>\n",
       "      <td>1.650766e+12</td>\n",
       "      <td>2022-04-24 02:00:00</td>\n",
       "      <td>ETH/USDT</td>\n",
       "      <td>2928.01</td>\n",
       "      <td>2939.54</td>\n",
       "      <td>2922.77</td>\n",
       "      <td>2932.35</td>\n",
       "      <td>7467.4838</td>\n",
       "      <td>2.189809e+07</td>\n",
       "      <td>13130.0</td>\n",
       "      <td>2934.120668</td>\n",
       "      <td>0.0604</td>\n",
       "    </tr>\n",
       "    <tr>\n",
       "      <th>215</th>\n",
       "      <td>1.650762e+12</td>\n",
       "      <td>2022-04-24 01:00:00</td>\n",
       "      <td>ETH/USDT</td>\n",
       "      <td>2935.74</td>\n",
       "      <td>2942.49</td>\n",
       "      <td>2928.00</td>\n",
       "      <td>2928.01</td>\n",
       "      <td>8482.2448</td>\n",
       "      <td>2.490662e+07</td>\n",
       "      <td>13327.0</td>\n",
       "      <td>2934.902416</td>\n",
       "      <td>0.2354</td>\n",
       "    </tr>\n",
       "    <tr>\n",
       "      <th>216</th>\n",
       "      <td>1.650758e+12</td>\n",
       "      <td>2022-04-24 00:00:00</td>\n",
       "      <td>ETH/USDT</td>\n",
       "      <td>2933.04</td>\n",
       "      <td>2945.73</td>\n",
       "      <td>2930.40</td>\n",
       "      <td>2935.74</td>\n",
       "      <td>9451.5633</td>\n",
       "      <td>2.777303e+07</td>\n",
       "      <td>15840.0</td>\n",
       "      <td>2935.644091</td>\n",
       "      <td>-0.0033</td>\n",
       "    </tr>\n",
       "    <tr>\n",
       "      <th>...</th>\n",
       "      <td>...</td>\n",
       "      <td>...</td>\n",
       "      <td>...</td>\n",
       "      <td>...</td>\n",
       "      <td>...</td>\n",
       "      <td>...</td>\n",
       "      <td>...</td>\n",
       "      <td>...</td>\n",
       "      <td>...</td>\n",
       "      <td>...</td>\n",
       "      <td>...</td>\n",
       "      <td>...</td>\n",
       "    </tr>\n",
       "    <tr>\n",
       "      <th>20451</th>\n",
       "      <td>1.577851e+09</td>\n",
       "      <td>2020-01-01 04-AM</td>\n",
       "      <td>ETH/USDT</td>\n",
       "      <td>130.20</td>\n",
       "      <td>130.74</td>\n",
       "      <td>130.15</td>\n",
       "      <td>130.20</td>\n",
       "      <td>3347.0900</td>\n",
       "      <td>4.363809e+05</td>\n",
       "      <td>NaN</td>\n",
       "      <td>127.890402</td>\n",
       "      <td>-1.7739</td>\n",
       "    </tr>\n",
       "    <tr>\n",
       "      <th>20452</th>\n",
       "      <td>1.577848e+09</td>\n",
       "      <td>2020-01-01 03-AM</td>\n",
       "      <td>ETH/USDT</td>\n",
       "      <td>130.85</td>\n",
       "      <td>130.89</td>\n",
       "      <td>129.94</td>\n",
       "      <td>130.20</td>\n",
       "      <td>4691.4500</td>\n",
       "      <td>6.112795e+05</td>\n",
       "      <td>NaN</td>\n",
       "      <td>127.896096</td>\n",
       "      <td>-1.7695</td>\n",
       "    </tr>\n",
       "    <tr>\n",
       "      <th>20453</th>\n",
       "      <td>1.577844e+09</td>\n",
       "      <td>2020-01-01 02-AM</td>\n",
       "      <td>ETH/USDT</td>\n",
       "      <td>130.64</td>\n",
       "      <td>130.98</td>\n",
       "      <td>130.35</td>\n",
       "      <td>130.85</td>\n",
       "      <td>7500.5700</td>\n",
       "      <td>9.805787e+05</td>\n",
       "      <td>NaN</td>\n",
       "      <td>127.903092</td>\n",
       "      <td>-2.2521</td>\n",
       "    </tr>\n",
       "    <tr>\n",
       "      <th>20454</th>\n",
       "      <td>1.577840e+09</td>\n",
       "      <td>2020-01-01 01-AM</td>\n",
       "      <td>ETH/USDT</td>\n",
       "      <td>128.87</td>\n",
       "      <td>130.65</td>\n",
       "      <td>128.78</td>\n",
       "      <td>130.64</td>\n",
       "      <td>11128.4800</td>\n",
       "      <td>1.446168e+06</td>\n",
       "      <td>NaN</td>\n",
       "      <td>127.911104</td>\n",
       "      <td>-2.0889</td>\n",
       "    </tr>\n",
       "    <tr>\n",
       "      <th>20455</th>\n",
       "      <td>1.577837e+09</td>\n",
       "      <td>2020-01-01 12-AM</td>\n",
       "      <td>ETH/USDT</td>\n",
       "      <td>129.16</td>\n",
       "      <td>129.19</td>\n",
       "      <td>128.68</td>\n",
       "      <td>128.87</td>\n",
       "      <td>7683.6400</td>\n",
       "      <td>9.899092e+05</td>\n",
       "      <td>NaN</td>\n",
       "      <td>127.913539</td>\n",
       "      <td>-0.7422</td>\n",
       "    </tr>\n",
       "  </tbody>\n",
       "</table>\n",
       "<p>20244 rows × 12 columns</p>\n",
       "</div>"
      ],
      "text/plain": [
       "               unix                 date    symbol     open     high      low  \\\n",
       "212    1.650773e+12  2022-04-24 04:00:00  ETH/USDT  2955.93  2958.85  2948.62   \n",
       "213    1.650769e+12  2022-04-24 03:00:00  ETH/USDT  2932.34  2960.00  2930.01   \n",
       "214    1.650766e+12  2022-04-24 02:00:00  ETH/USDT  2928.01  2939.54  2922.77   \n",
       "215    1.650762e+12  2022-04-24 01:00:00  ETH/USDT  2935.74  2942.49  2928.00   \n",
       "216    1.650758e+12  2022-04-24 00:00:00  ETH/USDT  2933.04  2945.73  2930.40   \n",
       "...             ...                  ...       ...      ...      ...      ...   \n",
       "20451  1.577851e+09     2020-01-01 04-AM  ETH/USDT   130.20   130.74   130.15   \n",
       "20452  1.577848e+09     2020-01-01 03-AM  ETH/USDT   130.85   130.89   129.94   \n",
       "20453  1.577844e+09     2020-01-01 02-AM  ETH/USDT   130.64   130.98   130.35   \n",
       "20454  1.577840e+09     2020-01-01 01-AM  ETH/USDT   128.87   130.65   128.78   \n",
       "20455  1.577837e+09     2020-01-01 12-AM  ETH/USDT   129.16   129.19   128.68   \n",
       "\n",
       "         close  Volume ETH   Volume USDT  tradecount      hma_200  pct_dev  \n",
       "212    2951.22   5937.2522  1.754233e+07     10974.0  2932.351310  -0.6394  \n",
       "213    2955.92  10693.1294  3.153426e+07     17028.0  2933.264941  -0.7664  \n",
       "214    2932.35   7467.4838  2.189809e+07     13130.0  2934.120668   0.0604  \n",
       "215    2928.01   8482.2448  2.490662e+07     13327.0  2934.902416   0.2354  \n",
       "216    2935.74   9451.5633  2.777303e+07     15840.0  2935.644091  -0.0033  \n",
       "...        ...         ...           ...         ...          ...      ...  \n",
       "20451   130.20   3347.0900  4.363809e+05         NaN   127.890402  -1.7739  \n",
       "20452   130.20   4691.4500  6.112795e+05         NaN   127.896096  -1.7695  \n",
       "20453   130.85   7500.5700  9.805787e+05         NaN   127.903092  -2.2521  \n",
       "20454   130.64  11128.4800  1.446168e+06         NaN   127.911104  -2.0889  \n",
       "20455   128.87   7683.6400  9.899092e+05         NaN   127.913539  -0.7422  \n",
       "\n",
       "[20244 rows x 12 columns]"
      ]
     },
     "execution_count": 82,
     "metadata": {},
     "output_type": "execute_result"
    }
   ],
   "source": [
    "data = df[212:]\n",
    "data['pct_dev'] = round(100*((data['hma_200'] - data['close']) / data['close'] ),4)\n"
   ]
  },
  {
   "cell_type": "code",
   "execution_count": 87,
   "metadata": {},
   "outputs": [
    {
     "name": "stdout",
     "output_type": "stream",
     "text": [
      "mean of : 0.0753152637818613\n",
      "std of : 4.505967800252646\n"
     ]
    }
   ],
   "source": [
    "print(f\"mean of : {data['pct_dev'].mean()}\")\n",
    "print(f\"std of : {data['pct_dev'].std()}\")\n",
    "sd_3 = data[abs(data['pct_dev']) > 13.5]"
   ]
  },
  {
   "cell_type": "code",
   "execution_count": 88,
   "metadata": {},
   "outputs": [
    {
     "data": {
      "text/html": [
       "<div>\n",
       "<style scoped>\n",
       "    .dataframe tbody tr th:only-of-type {\n",
       "        vertical-align: middle;\n",
       "    }\n",
       "\n",
       "    .dataframe tbody tr th {\n",
       "        vertical-align: top;\n",
       "    }\n",
       "\n",
       "    .dataframe thead th {\n",
       "        text-align: right;\n",
       "    }\n",
       "</style>\n",
       "<table border=\"1\" class=\"dataframe\">\n",
       "  <thead>\n",
       "    <tr style=\"text-align: right;\">\n",
       "      <th></th>\n",
       "      <th>unix</th>\n",
       "      <th>date</th>\n",
       "      <th>symbol</th>\n",
       "      <th>open</th>\n",
       "      <th>high</th>\n",
       "      <th>low</th>\n",
       "      <th>close</th>\n",
       "      <th>Volume ETH</th>\n",
       "      <th>Volume USDT</th>\n",
       "      <th>tradecount</th>\n",
       "      <th>hma_200</th>\n",
       "      <th>pct_dev</th>\n",
       "    </tr>\n",
       "  </thead>\n",
       "  <tbody>\n",
       "    <tr>\n",
       "      <th>1523</th>\n",
       "      <td>1.646053e+12</td>\n",
       "      <td>2022-02-28 13:00:00</td>\n",
       "      <td>ETH/USDT</td>\n",
       "      <td>2635.17</td>\n",
       "      <td>2640.66</td>\n",
       "      <td>2607.38</td>\n",
       "      <td>2617.56</td>\n",
       "      <td>19329.1270</td>\n",
       "      <td>5.070913e+07</td>\n",
       "      <td>33441.0</td>\n",
       "      <td>3010.124473</td>\n",
       "      <td>14.9973</td>\n",
       "    </tr>\n",
       "    <tr>\n",
       "      <th>1524</th>\n",
       "      <td>1.646050e+12</td>\n",
       "      <td>2022-02-28 12:00:00</td>\n",
       "      <td>ETH/USDT</td>\n",
       "      <td>2640.55</td>\n",
       "      <td>2665.79</td>\n",
       "      <td>2626.26</td>\n",
       "      <td>2635.17</td>\n",
       "      <td>22281.6042</td>\n",
       "      <td>5.899453e+07</td>\n",
       "      <td>37118.0</td>\n",
       "      <td>3005.630287</td>\n",
       "      <td>14.0583</td>\n",
       "    </tr>\n",
       "    <tr>\n",
       "      <th>1525</th>\n",
       "      <td>1.646046e+12</td>\n",
       "      <td>2022-02-28 11:00:00</td>\n",
       "      <td>ETH/USDT</td>\n",
       "      <td>2640.28</td>\n",
       "      <td>2646.97</td>\n",
       "      <td>2621.40</td>\n",
       "      <td>2640.54</td>\n",
       "      <td>10942.4077</td>\n",
       "      <td>2.885083e+07</td>\n",
       "      <td>21717.0</td>\n",
       "      <td>3000.400211</td>\n",
       "      <td>13.6283</td>\n",
       "    </tr>\n",
       "    <tr>\n",
       "      <th>1527</th>\n",
       "      <td>1.646039e+12</td>\n",
       "      <td>2022-02-28 09:00:00</td>\n",
       "      <td>ETH/USDT</td>\n",
       "      <td>2625.34</td>\n",
       "      <td>2642.58</td>\n",
       "      <td>2612.36</td>\n",
       "      <td>2612.39</td>\n",
       "      <td>13837.9246</td>\n",
       "      <td>3.641220e+07</td>\n",
       "      <td>28080.0</td>\n",
       "      <td>2987.984275</td>\n",
       "      <td>14.3774</td>\n",
       "    </tr>\n",
       "    <tr>\n",
       "      <th>1528</th>\n",
       "      <td>1.646035e+12</td>\n",
       "      <td>2022-02-28 08:00:00</td>\n",
       "      <td>ETH/USDT</td>\n",
       "      <td>2635.32</td>\n",
       "      <td>2658.00</td>\n",
       "      <td>2617.00</td>\n",
       "      <td>2625.34</td>\n",
       "      <td>19087.8620</td>\n",
       "      <td>5.032814e+07</td>\n",
       "      <td>36982.0</td>\n",
       "      <td>2980.936928</td>\n",
       "      <td>13.5448</td>\n",
       "    </tr>\n",
       "    <tr>\n",
       "      <th>...</th>\n",
       "      <td>...</td>\n",
       "      <td>...</td>\n",
       "      <td>...</td>\n",
       "      <td>...</td>\n",
       "      <td>...</td>\n",
       "      <td>...</td>\n",
       "      <td>...</td>\n",
       "      <td>...</td>\n",
       "      <td>...</td>\n",
       "      <td>...</td>\n",
       "      <td>...</td>\n",
       "      <td>...</td>\n",
       "    </tr>\n",
       "    <tr>\n",
       "      <th>19460</th>\n",
       "      <td>1.581419e+09</td>\n",
       "      <td>2020-02-11 11-AM</td>\n",
       "      <td>ETH/USDT</td>\n",
       "      <td>221.09</td>\n",
       "      <td>222.80</td>\n",
       "      <td>221.00</td>\n",
       "      <td>222.60</td>\n",
       "      <td>12281.4000</td>\n",
       "      <td>2.723713e+06</td>\n",
       "      <td>NaN</td>\n",
       "      <td>254.169108</td>\n",
       "      <td>14.1820</td>\n",
       "    </tr>\n",
       "    <tr>\n",
       "      <th>19461</th>\n",
       "      <td>1.581415e+09</td>\n",
       "      <td>2020-02-11 10-AM</td>\n",
       "      <td>ETH/USDT</td>\n",
       "      <td>221.23</td>\n",
       "      <td>222.20</td>\n",
       "      <td>220.31</td>\n",
       "      <td>221.09</td>\n",
       "      <td>12456.7500</td>\n",
       "      <td>2.756914e+06</td>\n",
       "      <td>NaN</td>\n",
       "      <td>253.054858</td>\n",
       "      <td>14.4578</td>\n",
       "    </tr>\n",
       "    <tr>\n",
       "      <th>19462</th>\n",
       "      <td>1.581412e+09</td>\n",
       "      <td>2020-02-11 09-AM</td>\n",
       "      <td>ETH/USDT</td>\n",
       "      <td>220.60</td>\n",
       "      <td>222.32</td>\n",
       "      <td>220.00</td>\n",
       "      <td>221.23</td>\n",
       "      <td>21006.5000</td>\n",
       "      <td>4.648261e+06</td>\n",
       "      <td>NaN</td>\n",
       "      <td>251.917242</td>\n",
       "      <td>13.8712</td>\n",
       "    </tr>\n",
       "    <tr>\n",
       "      <th>19463</th>\n",
       "      <td>1.581408e+09</td>\n",
       "      <td>2020-02-11 08-AM</td>\n",
       "      <td>ETH/USDT</td>\n",
       "      <td>218.61</td>\n",
       "      <td>220.60</td>\n",
       "      <td>218.23</td>\n",
       "      <td>220.60</td>\n",
       "      <td>14283.7700</td>\n",
       "      <td>3.130295e+06</td>\n",
       "      <td>NaN</td>\n",
       "      <td>250.759171</td>\n",
       "      <td>13.6714</td>\n",
       "    </tr>\n",
       "    <tr>\n",
       "      <th>19464</th>\n",
       "      <td>1.581404e+09</td>\n",
       "      <td>2020-02-11 07-AM</td>\n",
       "      <td>ETH/USDT</td>\n",
       "      <td>219.80</td>\n",
       "      <td>220.19</td>\n",
       "      <td>218.20</td>\n",
       "      <td>218.61</td>\n",
       "      <td>14019.8700</td>\n",
       "      <td>3.070711e+06</td>\n",
       "      <td>NaN</td>\n",
       "      <td>249.578417</td>\n",
       "      <td>14.1661</td>\n",
       "    </tr>\n",
       "  </tbody>\n",
       "</table>\n",
       "<p>219 rows × 12 columns</p>\n",
       "</div>"
      ],
      "text/plain": [
       "               unix                 date    symbol     open     high      low  \\\n",
       "1523   1.646053e+12  2022-02-28 13:00:00  ETH/USDT  2635.17  2640.66  2607.38   \n",
       "1524   1.646050e+12  2022-02-28 12:00:00  ETH/USDT  2640.55  2665.79  2626.26   \n",
       "1525   1.646046e+12  2022-02-28 11:00:00  ETH/USDT  2640.28  2646.97  2621.40   \n",
       "1527   1.646039e+12  2022-02-28 09:00:00  ETH/USDT  2625.34  2642.58  2612.36   \n",
       "1528   1.646035e+12  2022-02-28 08:00:00  ETH/USDT  2635.32  2658.00  2617.00   \n",
       "...             ...                  ...       ...      ...      ...      ...   \n",
       "19460  1.581419e+09     2020-02-11 11-AM  ETH/USDT   221.09   222.80   221.00   \n",
       "19461  1.581415e+09     2020-02-11 10-AM  ETH/USDT   221.23   222.20   220.31   \n",
       "19462  1.581412e+09     2020-02-11 09-AM  ETH/USDT   220.60   222.32   220.00   \n",
       "19463  1.581408e+09     2020-02-11 08-AM  ETH/USDT   218.61   220.60   218.23   \n",
       "19464  1.581404e+09     2020-02-11 07-AM  ETH/USDT   219.80   220.19   218.20   \n",
       "\n",
       "         close  Volume ETH   Volume USDT  tradecount      hma_200  pct_dev  \n",
       "1523   2617.56  19329.1270  5.070913e+07     33441.0  3010.124473  14.9973  \n",
       "1524   2635.17  22281.6042  5.899453e+07     37118.0  3005.630287  14.0583  \n",
       "1525   2640.54  10942.4077  2.885083e+07     21717.0  3000.400211  13.6283  \n",
       "1527   2612.39  13837.9246  3.641220e+07     28080.0  2987.984275  14.3774  \n",
       "1528   2625.34  19087.8620  5.032814e+07     36982.0  2980.936928  13.5448  \n",
       "...        ...         ...           ...         ...          ...      ...  \n",
       "19460   222.60  12281.4000  2.723713e+06         NaN   254.169108  14.1820  \n",
       "19461   221.09  12456.7500  2.756914e+06         NaN   253.054858  14.4578  \n",
       "19462   221.23  21006.5000  4.648261e+06         NaN   251.917242  13.8712  \n",
       "19463   220.60  14283.7700  3.130295e+06         NaN   250.759171  13.6714  \n",
       "19464   218.61  14019.8700  3.070711e+06         NaN   249.578417  14.1661  \n",
       "\n",
       "[219 rows x 12 columns]"
      ]
     },
     "execution_count": 88,
     "metadata": {},
     "output_type": "execute_result"
    }
   ],
   "source": [
    "sd_3"
   ]
  },
  {
   "cell_type": "code",
   "execution_count": null,
   "metadata": {},
   "outputs": [],
   "source": [
    "btc = get_historical_data(\"2021-01-01\", \"BTC-PERP\", \"1d\")"
   ]
  },
  {
   "cell_type": "code",
   "execution_count": 26,
   "metadata": {},
   "outputs": [
    {
     "data": {
      "text/plain": [
       "[9, 4]"
      ]
     },
     "execution_count": 26,
     "metadata": {},
     "output_type": "execute_result"
    }
   ],
   "source": [
    "import heapq\n",
    "x = [1,2,3]\n",
    "heapq.heapify(x)\n",
    "heapq.heappush(x,9)\n",
    "heapq.heappush(x,4)\n",
    "heapq.nlargest(2,x)"
   ]
  },
  {
   "cell_type": "code",
   "execution_count": 27,
   "metadata": {},
   "outputs": [
    {
     "data": {
      "text/plain": [
       "[1, 2, 3, 9, 4]"
      ]
     },
     "execution_count": 27,
     "metadata": {},
     "output_type": "execute_result"
    }
   ],
   "source": []
  },
  {
   "cell_type": "code",
   "execution_count": 20,
   "metadata": {},
   "outputs": [],
   "source": [
    "def lengthOfLongestSubstring( s: str) -> int:\n",
    "    a,b = 0,1\n",
    "    longest = 1\n",
    "    substring = set()\n",
    "    while b != len(s):\n",
    "        if s[a] == s[b]:\n",
    "            a += 1\n",
    "            b += 1\n",
    "        else:\n",
    "            # found starting point len >= 2\n",
    "            tmp = len(substring)\n",
    "            substring.add(s[a])\n",
    "            substring.add(s[b])\n",
    "            print(tmp, len(substring), longest)\n",
    "            if tmp != len(substring) and tmp > longest:\n",
    "                longest = tmp\n",
    "                substring.clear()\n",
    "                a = b\n",
    "            if tmp > longest:\n",
    "                longest = tmp\n",
    "            b += 1\n",
    "           \n",
    "        \n",
    "    return longest\n",
    "            \n",
    "        "
   ]
  },
  {
   "cell_type": "code",
   "execution_count": 21,
   "metadata": {},
   "outputs": [
    {
     "name": "stdout",
     "output_type": "stream",
     "text": [
      "0 2 1\n",
      "2 3 1\n",
      "0 2 2\n",
      "2 3 2\n",
      "3 3 2\n",
      "3 3 3\n",
      "3\n"
     ]
    }
   ],
   "source": [
    "print(lengthOfLongestSubstring(\"abcabcbb\"))"
   ]
  },
  {
   "cell_type": "code",
   "execution_count": 4,
   "metadata": {},
   "outputs": [
    {
     "ename": "ModuleNotFoundError",
     "evalue": "No module named 'pyportfolioopt'",
     "output_type": "error",
     "traceback": [
      "\u001b[0;31m---------------------------------------------------------------------------\u001b[0m",
      "\u001b[0;31mModuleNotFoundError\u001b[0m                       Traceback (most recent call last)",
      "\u001b[1;32m/Users/kevingeorge/Documents/projects/oms/testing.ipynb Cell 4'\u001b[0m in \u001b[0;36m<cell line: 1>\u001b[0;34m()\u001b[0m\n\u001b[0;32m----> <a href='vscode-notebook-cell:/Users/kevingeorge/Documents/projects/oms/testing.ipynb#ch0000003?line=0'>1</a>\u001b[0m \u001b[39mimport\u001b[39;00m \u001b[39mpyportfolioopt\u001b[39;00m\n",
      "\u001b[0;31mModuleNotFoundError\u001b[0m: No module named 'pyportfolioopt'"
     ]
    }
   ],
   "source": [
    "import pyportfolioopt"
   ]
  },
  {
   "cell_type": "code",
   "execution_count": 1,
   "metadata": {},
   "outputs": [
    {
     "ename": "ModuleNotFoundError",
     "evalue": "No module named 'pypfopt'",
     "output_type": "error",
     "traceback": [
      "\u001b[0;31m---------------------------------------------------------------------------\u001b[0m",
      "\u001b[0;31mModuleNotFoundError\u001b[0m                       Traceback (most recent call last)",
      "\u001b[1;32m/Users/kevingeorge/Documents/projects/oms/testing.ipynb Cell 1'\u001b[0m in \u001b[0;36m<cell line: 1>\u001b[0;34m()\u001b[0m\n\u001b[0;32m----> <a href='vscode-notebook-cell:/Users/kevingeorge/Documents/projects/oms/testing.ipynb#ch0000000?line=0'>1</a>\u001b[0m \u001b[39mfrom\u001b[39;00m \u001b[39mpypfopt\u001b[39;00m\u001b[39m.\u001b[39;00m\u001b[39mexpected_returns\u001b[39;00m \u001b[39mimport\u001b[39;00m mean_historical_return\n",
      "\u001b[0;31mModuleNotFoundError\u001b[0m: No module named 'pypfopt'"
     ]
    }
   ],
   "source": [
    "from pypfopt.expected_returns import mean_historical_return"
   ]
  },
  {
   "cell_type": "code",
   "execution_count": 1,
   "metadata": {},
   "outputs": [
    {
     "name": "stdout",
     "output_type": "stream",
     "text": [
      "Collecting cmake\n",
      "  Using cached cmake-3.22.5-py2.py3-none-macosx_10_10_universal2.macosx_10_10_x86_64.macosx_11_0_arm64.macosx_11_0_universal2.whl (75.2 MB)\n",
      "Installing collected packages: cmake\n",
      "Successfully installed cmake-3.22.5\n"
     ]
    }
   ],
   "source": [
    "!pip3 install cmake"
   ]
  },
  {
   "cell_type": "code",
   "execution_count": 3,
   "metadata": {},
   "outputs": [
    {
     "name": "stdout",
     "output_type": "stream",
     "text": [
      "Collecting PyPortfolioOpt\n",
      "  Using cached pyportfolioopt-1.5.3-py3-none-any.whl (61 kB)\n",
      "Collecting numpy<2.0.0,>=1.22.4\n",
      "  Downloading numpy-1.23.1-cp38-cp38-macosx_10_9_x86_64.whl (18.1 MB)\n",
      "\u001b[K     |████████████████████████████████| 18.1 MB 2.8 MB/s eta 0:00:01\n",
      "\u001b[?25hRequirement already satisfied: pandas>=0.19 in /opt/homebrew/anaconda3/lib/python3.8/site-packages (from PyPortfolioOpt) (1.2.4)\n",
      "Requirement already satisfied: scipy<2.0,>=1.3 in /opt/homebrew/anaconda3/lib/python3.8/site-packages (from PyPortfolioOpt) (1.6.2)\n",
      "Requirement already satisfied: cvxpy<2.0.0,>=1.1.10 in /opt/homebrew/anaconda3/lib/python3.8/site-packages (from PyPortfolioOpt) (1.2.1)\n",
      "Requirement already satisfied: ecos>=2 in /opt/homebrew/anaconda3/lib/python3.8/site-packages (from cvxpy<2.0.0,>=1.1.10->PyPortfolioOpt) (2.0.10)\n",
      "Requirement already satisfied: osqp>=0.4.1 in /opt/homebrew/anaconda3/lib/python3.8/site-packages (from cvxpy<2.0.0,>=1.1.10->PyPortfolioOpt) (0.6.2.post5)\n",
      "Requirement already satisfied: scs>=1.1.6 in /opt/homebrew/anaconda3/lib/python3.8/site-packages (from cvxpy<2.0.0,>=1.1.10->PyPortfolioOpt) (3.2.0)\n",
      "Requirement already satisfied: qdldl in /opt/homebrew/anaconda3/lib/python3.8/site-packages (from osqp>=0.4.1->cvxpy<2.0.0,>=1.1.10->PyPortfolioOpt) (0.1.5.post2)\n",
      "Requirement already satisfied: python-dateutil>=2.7.3 in /opt/homebrew/anaconda3/lib/python3.8/site-packages (from pandas>=0.19->PyPortfolioOpt) (2.8.1)\n",
      "Requirement already satisfied: pytz>=2017.3 in /opt/homebrew/anaconda3/lib/python3.8/site-packages (from pandas>=0.19->PyPortfolioOpt) (2021.1)\n",
      "Requirement already satisfied: six>=1.5 in /opt/homebrew/anaconda3/lib/python3.8/site-packages (from python-dateutil>=2.7.3->pandas>=0.19->PyPortfolioOpt) (1.15.0)\n",
      "  Downloading numpy-1.22.4-cp38-cp38-macosx_10_15_x86_64.whl (17.6 MB)\n",
      "\u001b[K     |████████████████████████████████| 17.6 MB 24.9 MB/s eta 0:00:01\n",
      "\u001b[?25hInstalling collected packages: numpy, PyPortfolioOpt\n",
      "  Attempting uninstall: numpy\n",
      "    Found existing installation: numpy 1.20.1\n",
      "    Uninstalling numpy-1.20.1:\n",
      "      Successfully uninstalled numpy-1.20.1\n",
      "Successfully installed PyPortfolioOpt-1.5.3 numpy-1.22.4\n"
     ]
    }
   ],
   "source": [
    "!pip3 install PyPortfolioOpt"
   ]
  },
  {
   "cell_type": "code",
   "execution_count": 47,
   "metadata": {},
   "outputs": [
    {
     "name": "stdout",
     "output_type": "stream",
     "text": [
      "[*********************100%***********************]  8 of 8 completed\n"
     ]
    }
   ],
   "source": [
    "import yfinance as yf\n",
    "data = yf.download(\"TSLA QQQ SPY AAPL COST UNH MSFT AMZN\", period=\"3y\", interval=\"1d\")\n",
    "# data = yf.download(\"SPY AAPL COST UNH\", start=\"2022-01-01\", end=\"2022-07-17\")\n"
   ]
  },
  {
   "cell_type": "code",
   "execution_count": 58,
   "metadata": {},
   "outputs": [
    {
     "name": "stdout",
     "output_type": "stream",
     "text": [
      "OrderedDict([('AAPL', 0.18403), ('AMZN', -0.07544), ('COST', 0.10511), ('MSFT', 0.05632), ('QQQ', -0.00631), ('SPY', -0.0154), ('TSLA', 0.63527), ('UNH', 0.11643)])\n",
      "Expected annual return: 105.4%\n",
      "Annual volatility: 50.3%\n",
      "Sharpe Ratio: 2.06\n"
     ]
    },
    {
     "name": "stderr",
     "output_type": "stream",
     "text": [
      "/opt/homebrew/anaconda3/lib/python3.8/site-packages/pypfopt/efficient_frontier/efficient_frontier.py:257: UserWarning: max_sharpe transforms the optimization problem so additional objectives may not work as expected.\n",
      "  warnings.warn(\n"
     ]
    },
    {
     "data": {
      "text/plain": [
       "(1.0541914667520973, 0.5029905318862573, 2.0560853558690084)"
      ]
     },
     "execution_count": 58,
     "metadata": {},
     "output_type": "execute_result"
    }
   ],
   "source": [
    "import pandas as pd\n",
    "from pypfopt import EfficientFrontier\n",
    "from pypfopt import risk_models\n",
    "from pypfopt import expected_returns\n",
    "from pypfopt import objective_functions\n",
    "\n",
    "# Read in price data\n",
    "df = data[\"Adj Close\"].dropna(how=\"all\")\n",
    "\n",
    "# Calculate expected returns and sample covariance\n",
    "mu = expected_returns.mean_historical_return(df)\n",
    "S = risk_models.sample_cov(df)\n",
    "\n",
    "\n",
    "# Optimize for maximal Sharpe ratio\n",
    "ef = EfficientFrontier(mu, S, weight_bounds=(-1,1))\n",
    "\n",
    "\n",
    "ef.add_objective(objective_functions.L2_reg)\n",
    "\n",
    "# ef.efficient_return(target_return=.1, market_neutral=True)\n",
    "ef.max_sharpe()\n",
    "# ef.min_volatility()\n",
    "\n",
    "\n",
    "weights = ef.clean_weights()\n",
    "print(weights)\n",
    "ef.portfolio_performance(verbose=True)\n",
    "# pd.Series(weights).plot.pie(figsize=(10,10));"
   ]
  },
  {
   "cell_type": "code",
   "execution_count": 42,
   "metadata": {},
   "outputs": [
    {
     "data": {
      "text/plain": [
       "{'RAY-USD': 0.15, 'SOL-USD': -0.5, 'SRM-USD': 0.35}"
      ]
     },
     "execution_count": 42,
     "metadata": {},
     "output_type": "execute_result"
    }
   ],
   "source": [
    "s = sum([abs(i) for i in weights.values()])\n",
    "weight = {k:round(v/s,2) for k,v in weights.items()}\n",
    "weight"
   ]
  },
  {
   "cell_type": "code",
   "execution_count": 14,
   "metadata": {},
   "outputs": [],
   "source": [
    "from pairs_helper_functions import *\n"
   ]
  },
  {
   "cell_type": "code",
   "execution_count": null,
   "metadata": {},
   "outputs": [],
   "source": [
    "def multi_weighted_index(weights, lookback_window = 30, resolution=\"1h\", starting_balance = 1000):\n",
    "    \"\"\"\n",
    "    Multiweighted index visualizer\n",
    "    weights - dictionary of tickers with respective weights (negative weight indicates short)\n",
    "    lookback_window - lookback period in days\n",
    "    starting_balance - starting balance\n",
    "    \"\"\"\n",
    "    start_date = date.today() - timedelta(lookback_window)\n",
    "    ohlc_data = dict()\n",
    "    holding = dict()\n",
    "    for ticker, weight in weights.items():\n",
    "        try:\n",
    "            ohlc = read_historical_data(start_date, f\"{ticker}-PERP\", resolution)\n",
    "        except FileNotFoundError as e:\n",
    "            ohlc_filename = download_historical_data(start_date, f\"{ticker}-PERP\", resolution)\n",
    "            ohlc = read_historical_data(start_date, f\"{ticker}-PERP\", resolution)\n",
    "        \n",
    "        holding[ticker] = weight * starting_balance / ohlc['open'][0]\n",
    "        ohlc['return'] = (ohlc['close'] - ohlc['open'][0]) / ohlc['open'][0]\n",
    "        if holding[ticker] < 0:\n",
    "            ohlc['value'] = weight * starting_balance * (-1/ohlc['return'])\n",
    "            ohlc['pnl'] = ohlc['value'] + weight*starting_balance\n",
    "\n",
    "        else:\n",
    "            ohlc['value'] = weight * starting_balance * ohlc['return']\n",
    "            ohlc['pnl'] = ohlc['value'] - weight*starting_balance\n",
    "\n",
    "        ohlc_data[ticker] = ohlc\n",
    "    windowlength = len(list(ohlc_data.values())[0]) - 1\n",
    "    va = [0]*(windowlength)\n",
    "    plt.figure(figsize=(15,10))\n",
    "    for k,v in ohlc_data.items():\n",
    "        for i in range(len(va)):\n",
    "            va[i] += v['pnl'][i]\n",
    "        plt.plot(v['return'], label = k)\n",
    "    pct_return = [(i/starting_balance) + 1 for i in va]\n",
    "    print(ohlc)\n",
    "\n",
    "    \n",
    "    plt.plot(pct_return, color='black', label='return')\n",
    "    plt.legend()\n",
    "    print(f\"min drawdown: {round(100*(min(pct_return) - 1),2)}%\")\n",
    "    print(f\"max return: {round(100*(max(pct_return) - 1),2)}%\")\n",
    "    print(f\"current return: {round(100*(pct_return[-1] - 1),2)}%\")\n",
    "    for k,v in weights.items():\n",
    "        print(f\"{k} : {v}\")\n",
    "\n",
    "\n",
    "    return ohlc_data, va\n",
    "\n",
    "market_returns,pct = multi_weighted_index({ \"BTC\":-.5, \"ETH\":.5}, 1, resolution=\"1h\", starting_balance=1)"
   ]
  },
  {
   "cell_type": "code",
   "execution_count": 47,
   "metadata": {},
   "outputs": [
    {
     "data": {
      "text/html": [
       "<div>\n",
       "<style scoped>\n",
       "    .dataframe tbody tr th:only-of-type {\n",
       "        vertical-align: middle;\n",
       "    }\n",
       "\n",
       "    .dataframe tbody tr th {\n",
       "        vertical-align: top;\n",
       "    }\n",
       "\n",
       "    .dataframe thead th {\n",
       "        text-align: right;\n",
       "    }\n",
       "</style>\n",
       "<table border=\"1\" class=\"dataframe\">\n",
       "  <thead>\n",
       "    <tr style=\"text-align: right;\">\n",
       "      <th></th>\n",
       "      <th>BTC</th>\n",
       "      <th>ETH</th>\n",
       "      <th>returns</th>\n",
       "    </tr>\n",
       "    <tr>\n",
       "      <th>time</th>\n",
       "      <th></th>\n",
       "      <th></th>\n",
       "      <th></th>\n",
       "    </tr>\n",
       "  </thead>\n",
       "  <tbody>\n",
       "    <tr>\n",
       "      <th>2022-07-24 00:00</th>\n",
       "      <td>-0.004544</td>\n",
       "      <td>0.010715</td>\n",
       "      <td>0.006171</td>\n",
       "    </tr>\n",
       "    <tr>\n",
       "      <th>2022-07-24 01:00</th>\n",
       "      <td>0.000757</td>\n",
       "      <td>0.007810</td>\n",
       "      <td>0.008568</td>\n",
       "    </tr>\n",
       "    <tr>\n",
       "      <th>2022-07-24 02:00</th>\n",
       "      <td>-0.001069</td>\n",
       "      <td>0.010651</td>\n",
       "      <td>0.009582</td>\n",
       "    </tr>\n",
       "    <tr>\n",
       "      <th>2022-07-24 03:00</th>\n",
       "      <td>0.004945</td>\n",
       "      <td>0.001807</td>\n",
       "      <td>0.006752</td>\n",
       "    </tr>\n",
       "    <tr>\n",
       "      <th>2022-07-24 04:00</th>\n",
       "      <td>0.002227</td>\n",
       "      <td>0.007746</td>\n",
       "      <td>0.009973</td>\n",
       "    </tr>\n",
       "    <tr>\n",
       "      <th>...</th>\n",
       "      <td>...</td>\n",
       "      <td>...</td>\n",
       "      <td>...</td>\n",
       "    </tr>\n",
       "    <tr>\n",
       "      <th>2022-08-08 23:00</th>\n",
       "      <td>-0.060896</td>\n",
       "      <td>0.147237</td>\n",
       "      <td>0.086341</td>\n",
       "    </tr>\n",
       "    <tr>\n",
       "      <th>2022-08-09 00:00</th>\n",
       "      <td>-0.060184</td>\n",
       "      <td>0.145559</td>\n",
       "      <td>0.085375</td>\n",
       "    </tr>\n",
       "    <tr>\n",
       "      <th>2022-08-09 01:00</th>\n",
       "      <td>-0.057466</td>\n",
       "      <td>0.139943</td>\n",
       "      <td>0.082477</td>\n",
       "    </tr>\n",
       "    <tr>\n",
       "      <th>2022-08-09 02:00</th>\n",
       "      <td>-0.060852</td>\n",
       "      <td>0.145043</td>\n",
       "      <td>0.084191</td>\n",
       "    </tr>\n",
       "    <tr>\n",
       "      <th>2022-08-09 03:00</th>\n",
       "      <td>-0.062277</td>\n",
       "      <td>0.148464</td>\n",
       "      <td>0.086186</td>\n",
       "    </tr>\n",
       "  </tbody>\n",
       "</table>\n",
       "<p>388 rows × 3 columns</p>\n",
       "</div>"
      ],
      "text/plain": [
       "                       BTC       ETH   returns\n",
       "time                                          \n",
       "2022-07-24 00:00 -0.004544  0.010715  0.006171\n",
       "2022-07-24 01:00  0.000757  0.007810  0.008568\n",
       "2022-07-24 02:00 -0.001069  0.010651  0.009582\n",
       "2022-07-24 03:00  0.004945  0.001807  0.006752\n",
       "2022-07-24 04:00  0.002227  0.007746  0.009973\n",
       "...                    ...       ...       ...\n",
       "2022-08-08 23:00 -0.060896  0.147237  0.086341\n",
       "2022-08-09 00:00 -0.060184  0.145559  0.085375\n",
       "2022-08-09 01:00 -0.057466  0.139943  0.082477\n",
       "2022-08-09 02:00 -0.060852  0.145043  0.084191\n",
       "2022-08-09 03:00 -0.062277  0.148464  0.086186\n",
       "\n",
       "[388 rows x 3 columns]"
      ]
     },
     "execution_count": 47,
     "metadata": {},
     "output_type": "execute_result"
    },
    {
     "data": {
      "image/png": "[encoded data removed]",
      "text/plain": [
       "<Figure size 1440x720 with 1 Axes>"
      ]
     },
     "metadata": {
      "needs_background": "light"
     },
     "output_type": "display_data"
    }
   ],
   "source": [
    "\n",
    "def download_historical_data(start_date, ticker, resolution):\n",
    "    \"\"\"\n",
    "    Downloads historical data into specific folder\n",
    "    start_date - string of start date ex. \"2022-04-01\"\n",
    "    ticker - ticker to download\n",
    "    resolution - resolution of candlestick ex. \"1h\"\n",
    "    returns: String of filename\n",
    "    \"\"\"\n",
    "    import os\n",
    "    data = get_historical_data(start_date, ticker, resolution)\n",
    "    file_name = f\"{ticker}_{resolution}_{start_date}.csv\"\n",
    "    outdir = 'data'\n",
    "    if not os.path.exists(outdir):\n",
    "        os.mkdir(outdir)\n",
    "\n",
    "    fullname = os.path.join(outdir, file_name)  \n",
    "\n",
    "\n",
    "    df = pd.DataFrame(data, columns=['time','open','high','low','close','volume'])\n",
    "    df.to_csv(fullname)\n",
    "    return file_name\n",
    "\n",
    "def read_historical_data(start_date, ticker, resolution):\n",
    "    \"\"\"\n",
    "    Reads historical data from subfolder\n",
    "    start_date - string of start date ex. \"2022-04-01\"\n",
    "    ticker - ticker to download\n",
    "    resolution - resolution of candlestick ex. \"1h\"\n",
    "    returns: OHLCV DataFrame\n",
    "    \"\"\"\n",
    "    data = pd.read_csv(f\"data/{ticker}_{resolution}_{start_date}.csv\")\n",
    "    return pd.DataFrame(data, columns=['time','open','high','low','close','volume'])\n",
    "\n",
    "def multi_weighted_index_v2(weights, lookback_window , resolution=\"1h\"):\n",
    "    \"\"\"\n",
    "    Multiweighted index visualizer\n",
    "    weights - dictionary of tickers with respective weights (negative weight indicates short)\n",
    "    lookback_window - lookback period in days\n",
    "    starting_balance - starting balance\n",
    "    \"\"\"\n",
    "    start_date = date.today() - timedelta(lookback_window)\n",
    "    returns = pd.DataFrame()\n",
    "    for ticker in weights.keys():\n",
    "        download_historical_data(start_date, f\"{ticker}-PERP\", resolution)\n",
    "        ohlc = read_historical_data(start_date, f\"{ticker}-PERP\", resolution)\n",
    "        ohlc[f\"return_{ticker}\"] = (ohlc['close'] - ohlc['open'][0]) / ohlc['open'][0]\n",
    "        returns[ticker] = ohlc[f\"return_{ticker}\"]\n",
    "\n",
    "    for k,v in weights.items():\n",
    "        returns[k] = returns[k] * v\n",
    "\n",
    "    returns[\"returns\"] = returns.sum(axis=1)\n",
    "    ohlc['time'] = ohlc['time'] / 1000\n",
    "    returns = returns.set_index(ohlc['time'].apply(lambda x: datetime.utcfromtimestamp(x).strftime('%Y-%m-%d %H:%M')))\n",
    "    returns.plot(figsize=(20, 10))\n",
    "\n",
    "    remove_data()\n",
    "\n",
    "    return returns\n",
    "\n",
    "    \n",
    "multi_weighted_index({\"BTC\":-1, \"ETH\":1}, 15)\n"
   ]
  },
  {
   "cell_type": "code",
   "execution_count": 1,
   "metadata": {},
   "outputs": [
    {
     "name": "stdout",
     "output_type": "stream",
     "text": [
      "          ETH    SRM\n",
      "0    0.004660 -0.002\n",
      "1    0.000575  0.003\n",
      "2   -0.001036  0.003\n",
      "3    0.001553  0.002\n",
      "4    0.000805  0.005\n",
      "..        ...    ...\n",
      "546 -0.012082 -0.026\n",
      "547 -0.013636 -0.024\n",
      "548 -0.012657 -0.023\n",
      "549 -0.012082 -0.023\n",
      "550 -0.011564 -0.023\n",
      "\n",
      "[551 rows x 2 columns]\n"
     ]
    },
    {
     "data": {
      "text/html": [
       "<div>\n",
       "<style scoped>\n",
       "    .dataframe tbody tr th:only-of-type {\n",
       "        vertical-align: middle;\n",
       "    }\n",
       "\n",
       "    .dataframe tbody tr th {\n",
       "        vertical-align: top;\n",
       "    }\n",
       "\n",
       "    .dataframe thead th {\n",
       "        text-align: right;\n",
       "    }\n",
       "</style>\n",
       "<table border=\"1\" class=\"dataframe\">\n",
       "  <thead>\n",
       "    <tr style=\"text-align: right;\">\n",
       "      <th></th>\n",
       "      <th>ETH</th>\n",
       "      <th>SRM</th>\n",
       "      <th>cum_returns</th>\n",
       "    </tr>\n",
       "  </thead>\n",
       "  <tbody>\n",
       "    <tr>\n",
       "      <th>0</th>\n",
       "      <td>0.004660</td>\n",
       "      <td>-0.002</td>\n",
       "      <td>-0.002</td>\n",
       "    </tr>\n",
       "    <tr>\n",
       "      <th>1</th>\n",
       "      <td>0.000575</td>\n",
       "      <td>0.003</td>\n",
       "      <td>0.003</td>\n",
       "    </tr>\n",
       "    <tr>\n",
       "      <th>2</th>\n",
       "      <td>-0.001036</td>\n",
       "      <td>0.003</td>\n",
       "      <td>0.003</td>\n",
       "    </tr>\n",
       "    <tr>\n",
       "      <th>3</th>\n",
       "      <td>0.001553</td>\n",
       "      <td>0.002</td>\n",
       "      <td>0.002</td>\n",
       "    </tr>\n",
       "    <tr>\n",
       "      <th>4</th>\n",
       "      <td>0.000805</td>\n",
       "      <td>0.005</td>\n",
       "      <td>0.005</td>\n",
       "    </tr>\n",
       "    <tr>\n",
       "      <th>...</th>\n",
       "      <td>...</td>\n",
       "      <td>...</td>\n",
       "      <td>...</td>\n",
       "    </tr>\n",
       "    <tr>\n",
       "      <th>546</th>\n",
       "      <td>-0.012082</td>\n",
       "      <td>-0.026</td>\n",
       "      <td>-0.026</td>\n",
       "    </tr>\n",
       "    <tr>\n",
       "      <th>547</th>\n",
       "      <td>-0.013636</td>\n",
       "      <td>-0.024</td>\n",
       "      <td>-0.024</td>\n",
       "    </tr>\n",
       "    <tr>\n",
       "      <th>548</th>\n",
       "      <td>-0.012657</td>\n",
       "      <td>-0.023</td>\n",
       "      <td>-0.023</td>\n",
       "    </tr>\n",
       "    <tr>\n",
       "      <th>549</th>\n",
       "      <td>-0.012082</td>\n",
       "      <td>-0.023</td>\n",
       "      <td>-0.023</td>\n",
       "    </tr>\n",
       "    <tr>\n",
       "      <th>550</th>\n",
       "      <td>-0.011564</td>\n",
       "      <td>-0.023</td>\n",
       "      <td>-0.023</td>\n",
       "    </tr>\n",
       "  </tbody>\n",
       "</table>\n",
       "<p>551 rows × 3 columns</p>\n",
       "</div>"
      ],
      "text/plain": [
       "          ETH    SRM  cum_returns\n",
       "0    0.004660 -0.002       -0.002\n",
       "1    0.000575  0.003        0.003\n",
       "2   -0.001036  0.003        0.003\n",
       "3    0.001553  0.002        0.002\n",
       "4    0.000805  0.005        0.005\n",
       "..        ...    ...          ...\n",
       "546 -0.012082 -0.026       -0.026\n",
       "547 -0.013636 -0.024       -0.024\n",
       "548 -0.012657 -0.023       -0.023\n",
       "549 -0.012082 -0.023       -0.023\n",
       "550 -0.011564 -0.023       -0.023\n",
       "\n",
       "[551 rows x 3 columns]"
      ]
     },
     "execution_count": 1,
     "metadata": {},
     "output_type": "execute_result"
    },
    {
     "data": {
      "image/png": "[encoded data removed]",
      "text/plain": [
       "<Figure size 1080x720 with 1 Axes>"
      ]
     },
     "metadata": {
      "needs_background": "light"
     },
     "output_type": "display_data"
    }
   ],
   "source": [
    "from pairs_helper_functions import *\n",
    "multi_weighted_index({ \"ETH\":1,  \"SRM\":-1}, 1, resolution=\"5m\")"
   ]
  },
  {
   "cell_type": "code",
   "execution_count": 146,
   "metadata": {},
   "outputs": [
    {
     "data": {
      "text/plain": [
       "'SOL-PERP_1h_2022-07-01.csv'"
      ]
     },
     "execution_count": 146,
     "metadata": {},
     "output_type": "execute_result"
    }
   ],
   "source": [
    "download_historical_data(\"2022-07-01\", \"SOL-PERP\", \"1h\")"
   ]
  },
  {
   "cell_type": "code",
   "execution_count": 169,
   "metadata": {},
   "outputs": [
    {
     "name": "stdout",
     "output_type": "stream",
     "text": [
      "0.0\n"
     ]
    }
   ],
   "source": [
    "from oms import OMS\n",
    "from csv import writer\n",
    "import time\n",
    "o = OMS()\n",
    "\n",
    "with open('pnl.csv', 'a') as f_object:\n",
    "  \n",
    "    # Pass this file object to csv.writer()\n",
    "    # and get a writer object\n",
    "    writer_object = writer(f_object)\n",
    "  \n",
    "    # Pass the list as an argument into\n",
    "    # the writerow()\n",
    "    pnl, pos = o.pnl()\n",
    "    print(pnl)\n",
    "    writer_object.writerow([pnl])\n",
    "  \n",
    "    #Close the file object\n",
    "    f_object.close()\n"
   ]
  },
  {
   "cell_type": "code",
   "execution_count": 1,
   "metadata": {},
   "outputs": [],
   "source": [
    "from oms import OMS\n",
    "o = OMS()\n"
   ]
  },
  {
   "cell_type": "code",
   "execution_count": 5,
   "metadata": {},
   "outputs": [
    {
     "name": "stdout",
     "output_type": "stream",
     "text": [
      "{'SOL': ('39.5275', '39.53')}\n"
     ]
    }
   ],
   "source": [
    "\n",
    "def chase(markets):\n",
    "    bid_ask = o.bid_ask(markets)\n",
    "    for ticker, side in markets:\n",
    "        if side == \"buy\":\n",
    "            o.oms.create_limit_order(symbol=ticker + \"-PERP\", side=side, amount=size, price = bid_ask[ticker][0])\n",
    "        else:\n",
    "            o.oms.create_limit_order(symbol=ticker + \"-PERP\", side=side, amount=size, price = bid_ask[ticker][1])\n",
    "chase(markets={\"SOL\":\"buy\"})"
   ]
  },
  {
   "cell_type": "code",
   "execution_count": null,
   "metadata": {},
   "outputs": [],
   "source": [
    "\"\"\"baskets\n",
    "Majors: BTC ETH SOL AVAX \n",
    "Alt L1: SOL AVAX ONE OP ETC BCH SNX\n",
    "Dinos: AAVE MKR LDO \n",
    "NFTs: LOOKS APE \n",
    "Alt Sol: SRM RAY \n",
    "\n",
    "\n",
    "\n",
    "\"\"\""
   ]
  }
 ],
 "metadata": {
  "kernelspec": {
   "display_name": "Python 3.8.8 ('base')",
   "language": "python",
   "name": "python3"
  },
  "language_info": {
   "codemirror_mode": {
    "name": "ipython",
    "version": 3
   },
   "file_extension": ".py",
   "mimetype": "text/x-python",
   "name": "python",
   "nbconvert_exporter": "python",
   "pygments_lexer": "ipython3",
   "version": "3.8.8"
  },
  "orig_nbformat": 4,
  "vscode": {
   "interpreter": {
    "hash": "38cca0c38332a56087b24af0bc80247f4fced29cb4f7f437d91dc159adec9c4e"
   }
  }
 },
 "nbformat": 4,
 "nbformat_minor": 2
}
